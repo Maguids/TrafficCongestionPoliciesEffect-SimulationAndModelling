{
 "cells": [
  {
   "cell_type": "code",
   "execution_count": 24,
   "id": "8ed3ba6b",
   "metadata": {},
   "outputs": [],
   "source": [
    "import pandas as pd"
   ]
  },
  {
   "cell_type": "markdown",
   "id": "4171ab44",
   "metadata": {},
   "source": [
    "## For Emissions CSV"
   ]
  },
  {
   "cell_type": "code",
   "execution_count": 25,
   "id": "fdedd4fb",
   "metadata": {},
   "outputs": [
    {
     "data": {
      "application/vnd.microsoft.datawrangler.viewer.v0+json": {
       "columns": [
        {
         "name": "index",
         "rawType": "int64",
         "type": "integer"
        },
        {
         "name": "timestep_time",
         "rawType": "float64",
         "type": "float"
        },
        {
         "name": "vehicle_CO",
         "rawType": "float64",
         "type": "float"
        },
        {
         "name": "vehicle_CO2",
         "rawType": "float64",
         "type": "float"
        },
        {
         "name": "vehicle_HC",
         "rawType": "float64",
         "type": "float"
        },
        {
         "name": "vehicle_NOx",
         "rawType": "float64",
         "type": "float"
        },
        {
         "name": "vehicle_PMx",
         "rawType": "float64",
         "type": "float"
        },
        {
         "name": "vehicle_angle",
         "rawType": "float64",
         "type": "float"
        },
        {
         "name": "vehicle_eclass",
         "rawType": "object",
         "type": "string"
        },
        {
         "name": "vehicle_electricity",
         "rawType": "float64",
         "type": "float"
        },
        {
         "name": "vehicle_fuel",
         "rawType": "float64",
         "type": "float"
        },
        {
         "name": "vehicle_id",
         "rawType": "object",
         "type": "string"
        },
        {
         "name": "vehicle_lane",
         "rawType": "object",
         "type": "string"
        },
        {
         "name": "vehicle_noise",
         "rawType": "float64",
         "type": "float"
        },
        {
         "name": "vehicle_pos",
         "rawType": "float64",
         "type": "float"
        },
        {
         "name": "vehicle_route",
         "rawType": "object",
         "type": "string"
        },
        {
         "name": "vehicle_speed",
         "rawType": "float64",
         "type": "float"
        },
        {
         "name": "vehicle_type",
         "rawType": "object",
         "type": "string"
        },
        {
         "name": "vehicle_waiting",
         "rawType": "float64",
         "type": "float"
        },
        {
         "name": "vehicle_x",
         "rawType": "float64",
         "type": "float"
        },
        {
         "name": "vehicle_y",
         "rawType": "float64",
         "type": "float"
        }
       ],
       "ref": "6241f4e3-3e91-4bcb-b41f-d2c5028568db",
       "rows": [
        [
         "0",
         "0.0",
         "112.58",
         "2298.06",
         "0.56",
         "0.96",
         "0.09",
         "90.0",
         "HBEFA3/PC_G_EU6",
         "0.0",
         "733.06",
         "flow_0.0",
         "A4B4_0",
         "55.94",
         "4.6",
         "r_upper",
         "0.0",
         "car",
         "0.0",
         "7.8",
         "398.4"
        ],
        [
         "1",
         "1.0",
         "102.77",
         "3237.74",
         "0.54",
         "1.38",
         "0.09",
         "90.0",
         "HBEFA3/PC_G_EU6",
         "0.0",
         "1032.87",
         "flow_0.0",
         "A4B4_0",
         "66.54",
         "6.82",
         "r_upper",
         "2.22",
         "car",
         "0.0",
         "10.02",
         "398.4"
        ],
        [
         "2",
         "2.0",
         "101.6",
         "4718.86",
         "0.58",
         "2.05",
         "0.12",
         "90.0",
         "HBEFA3/PC_G_EU6",
         "0.0",
         "1505.4",
         "flow_0.0",
         "A4B4_0",
         "68.89",
         "11.55",
         "r_upper",
         "4.73",
         "car",
         "0.0",
         "14.75",
         "398.4"
        ],
        [
         "3",
         "3.0",
         "97.84",
         "5741.3",
         "0.59",
         "2.51",
         "0.13",
         "90.0",
         "HBEFA3/PC_G_EU6",
         "0.0",
         "1831.62",
         "flow_0.0",
         "A4B4_0",
         "69.16",
         "18.62",
         "r_upper",
         "7.07",
         "car",
         "0.0",
         "21.82",
         "398.4"
        ],
        [
         "4",
         "4.0",
         "99.44",
         "6887.45",
         "0.63",
         "3.02",
         "0.15",
         "90.0",
         "HBEFA3/PC_G_EU6",
         "0.0",
         "2197.29",
         "flow_0.0",
         "A4B4_0",
         "70.0",
         "27.97",
         "r_upper",
         "9.36",
         "car",
         "0.0",
         "31.17",
         "398.4"
        ]
       ],
       "shape": {
        "columns": 20,
        "rows": 5
       }
      },
      "text/html": [
       "<div>\n",
       "<style scoped>\n",
       "    .dataframe tbody tr th:only-of-type {\n",
       "        vertical-align: middle;\n",
       "    }\n",
       "\n",
       "    .dataframe tbody tr th {\n",
       "        vertical-align: top;\n",
       "    }\n",
       "\n",
       "    .dataframe thead th {\n",
       "        text-align: right;\n",
       "    }\n",
       "</style>\n",
       "<table border=\"1\" class=\"dataframe\">\n",
       "  <thead>\n",
       "    <tr style=\"text-align: right;\">\n",
       "      <th></th>\n",
       "      <th>timestep_time</th>\n",
       "      <th>vehicle_CO</th>\n",
       "      <th>vehicle_CO2</th>\n",
       "      <th>vehicle_HC</th>\n",
       "      <th>vehicle_NOx</th>\n",
       "      <th>vehicle_PMx</th>\n",
       "      <th>vehicle_angle</th>\n",
       "      <th>vehicle_eclass</th>\n",
       "      <th>vehicle_electricity</th>\n",
       "      <th>vehicle_fuel</th>\n",
       "      <th>vehicle_id</th>\n",
       "      <th>vehicle_lane</th>\n",
       "      <th>vehicle_noise</th>\n",
       "      <th>vehicle_pos</th>\n",
       "      <th>vehicle_route</th>\n",
       "      <th>vehicle_speed</th>\n",
       "      <th>vehicle_type</th>\n",
       "      <th>vehicle_waiting</th>\n",
       "      <th>vehicle_x</th>\n",
       "      <th>vehicle_y</th>\n",
       "    </tr>\n",
       "  </thead>\n",
       "  <tbody>\n",
       "    <tr>\n",
       "      <th>0</th>\n",
       "      <td>0.0</td>\n",
       "      <td>112.58</td>\n",
       "      <td>2298.06</td>\n",
       "      <td>0.56</td>\n",
       "      <td>0.96</td>\n",
       "      <td>0.09</td>\n",
       "      <td>90.0</td>\n",
       "      <td>HBEFA3/PC_G_EU6</td>\n",
       "      <td>0.0</td>\n",
       "      <td>733.06</td>\n",
       "      <td>flow_0.0</td>\n",
       "      <td>A4B4_0</td>\n",
       "      <td>55.94</td>\n",
       "      <td>4.60</td>\n",
       "      <td>r_upper</td>\n",
       "      <td>0.00</td>\n",
       "      <td>car</td>\n",
       "      <td>0.0</td>\n",
       "      <td>7.80</td>\n",
       "      <td>398.4</td>\n",
       "    </tr>\n",
       "    <tr>\n",
       "      <th>1</th>\n",
       "      <td>1.0</td>\n",
       "      <td>102.77</td>\n",
       "      <td>3237.74</td>\n",
       "      <td>0.54</td>\n",
       "      <td>1.38</td>\n",
       "      <td>0.09</td>\n",
       "      <td>90.0</td>\n",
       "      <td>HBEFA3/PC_G_EU6</td>\n",
       "      <td>0.0</td>\n",
       "      <td>1032.87</td>\n",
       "      <td>flow_0.0</td>\n",
       "      <td>A4B4_0</td>\n",
       "      <td>66.54</td>\n",
       "      <td>6.82</td>\n",
       "      <td>r_upper</td>\n",
       "      <td>2.22</td>\n",
       "      <td>car</td>\n",
       "      <td>0.0</td>\n",
       "      <td>10.02</td>\n",
       "      <td>398.4</td>\n",
       "    </tr>\n",
       "    <tr>\n",
       "      <th>2</th>\n",
       "      <td>2.0</td>\n",
       "      <td>101.60</td>\n",
       "      <td>4718.86</td>\n",
       "      <td>0.58</td>\n",
       "      <td>2.05</td>\n",
       "      <td>0.12</td>\n",
       "      <td>90.0</td>\n",
       "      <td>HBEFA3/PC_G_EU6</td>\n",
       "      <td>0.0</td>\n",
       "      <td>1505.40</td>\n",
       "      <td>flow_0.0</td>\n",
       "      <td>A4B4_0</td>\n",
       "      <td>68.89</td>\n",
       "      <td>11.55</td>\n",
       "      <td>r_upper</td>\n",
       "      <td>4.73</td>\n",
       "      <td>car</td>\n",
       "      <td>0.0</td>\n",
       "      <td>14.75</td>\n",
       "      <td>398.4</td>\n",
       "    </tr>\n",
       "    <tr>\n",
       "      <th>3</th>\n",
       "      <td>3.0</td>\n",
       "      <td>97.84</td>\n",
       "      <td>5741.30</td>\n",
       "      <td>0.59</td>\n",
       "      <td>2.51</td>\n",
       "      <td>0.13</td>\n",
       "      <td>90.0</td>\n",
       "      <td>HBEFA3/PC_G_EU6</td>\n",
       "      <td>0.0</td>\n",
       "      <td>1831.62</td>\n",
       "      <td>flow_0.0</td>\n",
       "      <td>A4B4_0</td>\n",
       "      <td>69.16</td>\n",
       "      <td>18.62</td>\n",
       "      <td>r_upper</td>\n",
       "      <td>7.07</td>\n",
       "      <td>car</td>\n",
       "      <td>0.0</td>\n",
       "      <td>21.82</td>\n",
       "      <td>398.4</td>\n",
       "    </tr>\n",
       "    <tr>\n",
       "      <th>4</th>\n",
       "      <td>4.0</td>\n",
       "      <td>99.44</td>\n",
       "      <td>6887.45</td>\n",
       "      <td>0.63</td>\n",
       "      <td>3.02</td>\n",
       "      <td>0.15</td>\n",
       "      <td>90.0</td>\n",
       "      <td>HBEFA3/PC_G_EU6</td>\n",
       "      <td>0.0</td>\n",
       "      <td>2197.29</td>\n",
       "      <td>flow_0.0</td>\n",
       "      <td>A4B4_0</td>\n",
       "      <td>70.00</td>\n",
       "      <td>27.97</td>\n",
       "      <td>r_upper</td>\n",
       "      <td>9.36</td>\n",
       "      <td>car</td>\n",
       "      <td>0.0</td>\n",
       "      <td>31.17</td>\n",
       "      <td>398.4</td>\n",
       "    </tr>\n",
       "  </tbody>\n",
       "</table>\n",
       "</div>"
      ],
      "text/plain": [
       "   timestep_time  vehicle_CO  vehicle_CO2  vehicle_HC  vehicle_NOx  \\\n",
       "0            0.0      112.58      2298.06        0.56         0.96   \n",
       "1            1.0      102.77      3237.74        0.54         1.38   \n",
       "2            2.0      101.60      4718.86        0.58         2.05   \n",
       "3            3.0       97.84      5741.30        0.59         2.51   \n",
       "4            4.0       99.44      6887.45        0.63         3.02   \n",
       "\n",
       "   vehicle_PMx  vehicle_angle   vehicle_eclass  vehicle_electricity  \\\n",
       "0         0.09           90.0  HBEFA3/PC_G_EU6                  0.0   \n",
       "1         0.09           90.0  HBEFA3/PC_G_EU6                  0.0   \n",
       "2         0.12           90.0  HBEFA3/PC_G_EU6                  0.0   \n",
       "3         0.13           90.0  HBEFA3/PC_G_EU6                  0.0   \n",
       "4         0.15           90.0  HBEFA3/PC_G_EU6                  0.0   \n",
       "\n",
       "   vehicle_fuel vehicle_id vehicle_lane  vehicle_noise  vehicle_pos  \\\n",
       "0        733.06   flow_0.0       A4B4_0          55.94         4.60   \n",
       "1       1032.87   flow_0.0       A4B4_0          66.54         6.82   \n",
       "2       1505.40   flow_0.0       A4B4_0          68.89        11.55   \n",
       "3       1831.62   flow_0.0       A4B4_0          69.16        18.62   \n",
       "4       2197.29   flow_0.0       A4B4_0          70.00        27.97   \n",
       "\n",
       "  vehicle_route  vehicle_speed vehicle_type  vehicle_waiting  vehicle_x  \\\n",
       "0       r_upper           0.00          car              0.0       7.80   \n",
       "1       r_upper           2.22          car              0.0      10.02   \n",
       "2       r_upper           4.73          car              0.0      14.75   \n",
       "3       r_upper           7.07          car              0.0      21.82   \n",
       "4       r_upper           9.36          car              0.0      31.17   \n",
       "\n",
       "   vehicle_y  \n",
       "0      398.4  \n",
       "1      398.4  \n",
       "2      398.4  \n",
       "3      398.4  \n",
       "4      398.4  "
      ]
     },
     "execution_count": 25,
     "metadata": {},
     "output_type": "execute_result"
    }
   ],
   "source": [
    "df_emissions = pd.read_csv(r\"..\\outputs\\csvs\\emissions.csv\", sep=\";\")\n",
    "df_emissions.head()"
   ]
  },
  {
   "cell_type": "code",
   "execution_count": 26,
   "id": "d4d99a56",
   "metadata": {},
   "outputs": [
    {
     "data": {
      "application/vnd.microsoft.datawrangler.viewer.v0+json": {
       "columns": [
        {
         "name": "index",
         "rawType": "int64",
         "type": "integer"
        },
        {
         "name": "timestep_time",
         "rawType": "float64",
         "type": "float"
        },
        {
         "name": "vehicle_CO",
         "rawType": "float64",
         "type": "float"
        },
        {
         "name": "vehicle_CO2",
         "rawType": "float64",
         "type": "float"
        },
        {
         "name": "vehicle_HC",
         "rawType": "float64",
         "type": "float"
        },
        {
         "name": "vehicle_NOx",
         "rawType": "float64",
         "type": "float"
        },
        {
         "name": "vehicle_PMx",
         "rawType": "float64",
         "type": "float"
        },
        {
         "name": "vehicle_angle",
         "rawType": "float64",
         "type": "float"
        },
        {
         "name": "vehicle_eclass",
         "rawType": "object",
         "type": "string"
        },
        {
         "name": "vehicle_electricity",
         "rawType": "float64",
         "type": "float"
        },
        {
         "name": "vehicle_fuel",
         "rawType": "float64",
         "type": "float"
        },
        {
         "name": "vehicle_id",
         "rawType": "object",
         "type": "string"
        },
        {
         "name": "vehicle_lane",
         "rawType": "object",
         "type": "string"
        },
        {
         "name": "vehicle_noise",
         "rawType": "float64",
         "type": "float"
        },
        {
         "name": "vehicle_pos",
         "rawType": "float64",
         "type": "float"
        },
        {
         "name": "vehicle_route",
         "rawType": "object",
         "type": "string"
        },
        {
         "name": "vehicle_speed",
         "rawType": "float64",
         "type": "float"
        },
        {
         "name": "vehicle_type",
         "rawType": "object",
         "type": "string"
        },
        {
         "name": "vehicle_waiting",
         "rawType": "float64",
         "type": "float"
        },
        {
         "name": "vehicle_x",
         "rawType": "float64",
         "type": "float"
        },
        {
         "name": "vehicle_y",
         "rawType": "float64",
         "type": "float"
        },
        {
         "name": "car_id",
         "rawType": "int64",
         "type": "integer"
        },
        {
         "name": "flow_id",
         "rawType": "int64",
         "type": "integer"
        }
       ],
       "ref": "5a92e1a3-0753-4b6c-a567-4d831b79ca60",
       "rows": [
        [
         "0",
         "0.0",
         "112.58",
         "2298.06",
         "0.56",
         "0.96",
         "0.09",
         "90.0",
         "HBEFA3/PC_G_EU6",
         "0.0",
         "733.06",
         "flow_0.0",
         "A4B4_0",
         "55.94",
         "4.6",
         "r_upper",
         "0.0",
         "car",
         "0.0",
         "7.8",
         "398.4",
         "0",
         "0"
        ],
        [
         "1",
         "1.0",
         "102.77",
         "3237.74",
         "0.54",
         "1.38",
         "0.09",
         "90.0",
         "HBEFA3/PC_G_EU6",
         "0.0",
         "1032.87",
         "flow_0.0",
         "A4B4_0",
         "66.54",
         "6.82",
         "r_upper",
         "2.22",
         "car",
         "0.0",
         "10.02",
         "398.4",
         "0",
         "0"
        ],
        [
         "2",
         "2.0",
         "101.6",
         "4718.86",
         "0.58",
         "2.05",
         "0.12",
         "90.0",
         "HBEFA3/PC_G_EU6",
         "0.0",
         "1505.4",
         "flow_0.0",
         "A4B4_0",
         "68.89",
         "11.55",
         "r_upper",
         "4.73",
         "car",
         "0.0",
         "14.75",
         "398.4",
         "0",
         "0"
        ],
        [
         "3",
         "3.0",
         "97.84",
         "5741.3",
         "0.59",
         "2.51",
         "0.13",
         "90.0",
         "HBEFA3/PC_G_EU6",
         "0.0",
         "1831.62",
         "flow_0.0",
         "A4B4_0",
         "69.16",
         "18.62",
         "r_upper",
         "7.07",
         "car",
         "0.0",
         "21.82",
         "398.4",
         "0",
         "0"
        ],
        [
         "4",
         "4.0",
         "99.44",
         "6887.45",
         "0.63",
         "3.02",
         "0.15",
         "90.0",
         "HBEFA3/PC_G_EU6",
         "0.0",
         "2197.29",
         "flow_0.0",
         "A4B4_0",
         "70.0",
         "27.97",
         "r_upper",
         "9.36",
         "car",
         "0.0",
         "31.17",
         "398.4",
         "0",
         "0"
        ]
       ],
       "shape": {
        "columns": 22,
        "rows": 5
       }
      },
      "text/html": [
       "<div>\n",
       "<style scoped>\n",
       "    .dataframe tbody tr th:only-of-type {\n",
       "        vertical-align: middle;\n",
       "    }\n",
       "\n",
       "    .dataframe tbody tr th {\n",
       "        vertical-align: top;\n",
       "    }\n",
       "\n",
       "    .dataframe thead th {\n",
       "        text-align: right;\n",
       "    }\n",
       "</style>\n",
       "<table border=\"1\" class=\"dataframe\">\n",
       "  <thead>\n",
       "    <tr style=\"text-align: right;\">\n",
       "      <th></th>\n",
       "      <th>timestep_time</th>\n",
       "      <th>vehicle_CO</th>\n",
       "      <th>vehicle_CO2</th>\n",
       "      <th>vehicle_HC</th>\n",
       "      <th>vehicle_NOx</th>\n",
       "      <th>vehicle_PMx</th>\n",
       "      <th>vehicle_angle</th>\n",
       "      <th>vehicle_eclass</th>\n",
       "      <th>vehicle_electricity</th>\n",
       "      <th>vehicle_fuel</th>\n",
       "      <th>...</th>\n",
       "      <th>vehicle_noise</th>\n",
       "      <th>vehicle_pos</th>\n",
       "      <th>vehicle_route</th>\n",
       "      <th>vehicle_speed</th>\n",
       "      <th>vehicle_type</th>\n",
       "      <th>vehicle_waiting</th>\n",
       "      <th>vehicle_x</th>\n",
       "      <th>vehicle_y</th>\n",
       "      <th>car_id</th>\n",
       "      <th>flow_id</th>\n",
       "    </tr>\n",
       "  </thead>\n",
       "  <tbody>\n",
       "    <tr>\n",
       "      <th>0</th>\n",
       "      <td>0.0</td>\n",
       "      <td>112.58</td>\n",
       "      <td>2298.06</td>\n",
       "      <td>0.56</td>\n",
       "      <td>0.96</td>\n",
       "      <td>0.09</td>\n",
       "      <td>90.0</td>\n",
       "      <td>HBEFA3/PC_G_EU6</td>\n",
       "      <td>0.0</td>\n",
       "      <td>733.06</td>\n",
       "      <td>...</td>\n",
       "      <td>55.94</td>\n",
       "      <td>4.60</td>\n",
       "      <td>r_upper</td>\n",
       "      <td>0.00</td>\n",
       "      <td>car</td>\n",
       "      <td>0.0</td>\n",
       "      <td>7.80</td>\n",
       "      <td>398.4</td>\n",
       "      <td>0</td>\n",
       "      <td>0</td>\n",
       "    </tr>\n",
       "    <tr>\n",
       "      <th>1</th>\n",
       "      <td>1.0</td>\n",
       "      <td>102.77</td>\n",
       "      <td>3237.74</td>\n",
       "      <td>0.54</td>\n",
       "      <td>1.38</td>\n",
       "      <td>0.09</td>\n",
       "      <td>90.0</td>\n",
       "      <td>HBEFA3/PC_G_EU6</td>\n",
       "      <td>0.0</td>\n",
       "      <td>1032.87</td>\n",
       "      <td>...</td>\n",
       "      <td>66.54</td>\n",
       "      <td>6.82</td>\n",
       "      <td>r_upper</td>\n",
       "      <td>2.22</td>\n",
       "      <td>car</td>\n",
       "      <td>0.0</td>\n",
       "      <td>10.02</td>\n",
       "      <td>398.4</td>\n",
       "      <td>0</td>\n",
       "      <td>0</td>\n",
       "    </tr>\n",
       "    <tr>\n",
       "      <th>2</th>\n",
       "      <td>2.0</td>\n",
       "      <td>101.60</td>\n",
       "      <td>4718.86</td>\n",
       "      <td>0.58</td>\n",
       "      <td>2.05</td>\n",
       "      <td>0.12</td>\n",
       "      <td>90.0</td>\n",
       "      <td>HBEFA3/PC_G_EU6</td>\n",
       "      <td>0.0</td>\n",
       "      <td>1505.40</td>\n",
       "      <td>...</td>\n",
       "      <td>68.89</td>\n",
       "      <td>11.55</td>\n",
       "      <td>r_upper</td>\n",
       "      <td>4.73</td>\n",
       "      <td>car</td>\n",
       "      <td>0.0</td>\n",
       "      <td>14.75</td>\n",
       "      <td>398.4</td>\n",
       "      <td>0</td>\n",
       "      <td>0</td>\n",
       "    </tr>\n",
       "    <tr>\n",
       "      <th>3</th>\n",
       "      <td>3.0</td>\n",
       "      <td>97.84</td>\n",
       "      <td>5741.30</td>\n",
       "      <td>0.59</td>\n",
       "      <td>2.51</td>\n",
       "      <td>0.13</td>\n",
       "      <td>90.0</td>\n",
       "      <td>HBEFA3/PC_G_EU6</td>\n",
       "      <td>0.0</td>\n",
       "      <td>1831.62</td>\n",
       "      <td>...</td>\n",
       "      <td>69.16</td>\n",
       "      <td>18.62</td>\n",
       "      <td>r_upper</td>\n",
       "      <td>7.07</td>\n",
       "      <td>car</td>\n",
       "      <td>0.0</td>\n",
       "      <td>21.82</td>\n",
       "      <td>398.4</td>\n",
       "      <td>0</td>\n",
       "      <td>0</td>\n",
       "    </tr>\n",
       "    <tr>\n",
       "      <th>4</th>\n",
       "      <td>4.0</td>\n",
       "      <td>99.44</td>\n",
       "      <td>6887.45</td>\n",
       "      <td>0.63</td>\n",
       "      <td>3.02</td>\n",
       "      <td>0.15</td>\n",
       "      <td>90.0</td>\n",
       "      <td>HBEFA3/PC_G_EU6</td>\n",
       "      <td>0.0</td>\n",
       "      <td>2197.29</td>\n",
       "      <td>...</td>\n",
       "      <td>70.00</td>\n",
       "      <td>27.97</td>\n",
       "      <td>r_upper</td>\n",
       "      <td>9.36</td>\n",
       "      <td>car</td>\n",
       "      <td>0.0</td>\n",
       "      <td>31.17</td>\n",
       "      <td>398.4</td>\n",
       "      <td>0</td>\n",
       "      <td>0</td>\n",
       "    </tr>\n",
       "  </tbody>\n",
       "</table>\n",
       "<p>5 rows × 22 columns</p>\n",
       "</div>"
      ],
      "text/plain": [
       "   timestep_time  vehicle_CO  vehicle_CO2  vehicle_HC  vehicle_NOx  \\\n",
       "0            0.0      112.58      2298.06        0.56         0.96   \n",
       "1            1.0      102.77      3237.74        0.54         1.38   \n",
       "2            2.0      101.60      4718.86        0.58         2.05   \n",
       "3            3.0       97.84      5741.30        0.59         2.51   \n",
       "4            4.0       99.44      6887.45        0.63         3.02   \n",
       "\n",
       "   vehicle_PMx  vehicle_angle   vehicle_eclass  vehicle_electricity  \\\n",
       "0         0.09           90.0  HBEFA3/PC_G_EU6                  0.0   \n",
       "1         0.09           90.0  HBEFA3/PC_G_EU6                  0.0   \n",
       "2         0.12           90.0  HBEFA3/PC_G_EU6                  0.0   \n",
       "3         0.13           90.0  HBEFA3/PC_G_EU6                  0.0   \n",
       "4         0.15           90.0  HBEFA3/PC_G_EU6                  0.0   \n",
       "\n",
       "   vehicle_fuel  ... vehicle_noise vehicle_pos  vehicle_route  vehicle_speed  \\\n",
       "0        733.06  ...         55.94        4.60        r_upper           0.00   \n",
       "1       1032.87  ...         66.54        6.82        r_upper           2.22   \n",
       "2       1505.40  ...         68.89       11.55        r_upper           4.73   \n",
       "3       1831.62  ...         69.16       18.62        r_upper           7.07   \n",
       "4       2197.29  ...         70.00       27.97        r_upper           9.36   \n",
       "\n",
       "  vehicle_type  vehicle_waiting vehicle_x  vehicle_y  car_id  flow_id  \n",
       "0          car              0.0      7.80      398.4       0        0  \n",
       "1          car              0.0     10.02      398.4       0        0  \n",
       "2          car              0.0     14.75      398.4       0        0  \n",
       "3          car              0.0     21.82      398.4       0        0  \n",
       "4          car              0.0     31.17      398.4       0        0  \n",
       "\n",
       "[5 rows x 22 columns]"
      ]
     },
     "execution_count": 26,
     "metadata": {},
     "output_type": "execute_result"
    }
   ],
   "source": [
    "# Order by vehicle_id and timestep\n",
    "\n",
    "# Creates a new column 'car_id' as the integer after the first dot, avoids recurrent flagging\n",
    "df_emissions[\"car_id\"] = df_emissions[\"vehicle_id\"].str.split(\".\", n=1).str[1].astype(int)\n",
    "df_emissions[\"flow_id\"] = df_emissions[\"vehicle_id\"].str.extract(r\"flow_(\\d+)\\.\\d+\").astype(int)\n",
    "\n",
    "# Sort by car_id and timestep_time\n",
    "df_emissions = df_emissions.sort_values(by=[\"flow_id\", \"car_id\", \"timestep_time\"], ascending=[True, True, True])\n",
    "\n",
    "df_emissions.head()\n",
    "df_emissions.head()"
   ]
  },
  {
   "cell_type": "code",
   "execution_count": 27,
   "id": "110242d8",
   "metadata": {},
   "outputs": [],
   "source": [
    "def checkMissing(df):\n",
    "    for f in set(df_emissions[\"flow_id\"].values):\n",
    "        print(\"Checking missing values for flow_id\",f)\n",
    "\n",
    "        df_check = df[df[\"flow_id\"] == f]\n",
    "        \n",
    "        car_ids = list(sorted(set(df_check[\"car_id\"])))\n",
    "\n",
    "        missing_ids = [i for i in range(car_ids[0], car_ids[-1] + 1) if i not in car_ids]\n",
    "\n",
    "        missing_info = [{\"missing_id\": m,\n",
    "                        \"prev_id\": m-1 if m-1 in car_ids else None,\n",
    "                        \"next_id\": m+1 if m+1 in car_ids else None} for m in missing_ids]\n",
    "\n",
    "        print(\"Missing IDs:\", missing_ids)\n",
    "        print(\"Details:\", missing_info)"
   ]
  },
  {
   "cell_type": "code",
   "execution_count": 28,
   "id": "6f32a595",
   "metadata": {},
   "outputs": [
    {
     "name": "stdout",
     "output_type": "stream",
     "text": [
      "Checking missing values for flow_id 0\n",
      "Missing IDs: []\n",
      "Details: []\n"
     ]
    }
   ],
   "source": [
    "checkMissing(df_emissions)"
   ]
  },
  {
   "cell_type": "code",
   "execution_count": 31,
   "id": "36df0831",
   "metadata": {},
   "outputs": [
    {
     "data": {
      "application/vnd.microsoft.datawrangler.viewer.v0+json": {
       "columns": [
        {
         "name": "index",
         "rawType": "int64",
         "type": "integer"
        },
        {
         "name": "vehicle_id",
         "rawType": "object",
         "type": "string"
        },
        {
         "name": "avg_co2",
         "rawType": "float64",
         "type": "float"
        }
       ],
       "ref": "496ef1f1-3516-403e-9415-c6b01197e33d",
       "rows": [
        [
         "0",
         "flow_0.0",
         "2883.2113559322033"
        ],
        [
         "1",
         "flow_0.1",
         "2607.7136507936507"
        ],
        [
         "2",
         "flow_0.10",
         "2748.31390625"
        ],
        [
         "3",
         "flow_0.100",
         "2799.264666666667"
        ],
        [
         "4",
         "flow_0.101",
         "2700.0329032258064"
        ],
        [
         "5",
         "flow_0.102",
         "2732.728253968254"
        ],
        [
         "6",
         "flow_0.103",
         "2662.146451612903"
        ],
        [
         "7",
         "flow_0.104",
         "2523.215909090909"
        ],
        [
         "8",
         "flow_0.105",
         "2711.4553225806453"
        ],
        [
         "9",
         "flow_0.106",
         "2819.286065573771"
        ],
        [
         "10",
         "flow_0.107",
         "2836.2403333333336"
        ],
        [
         "11",
         "flow_0.108",
         "2964.464237288136"
        ],
        [
         "12",
         "flow_0.109",
         "2833.8516129032255"
        ],
        [
         "13",
         "flow_0.11",
         "2869.754918032787"
        ],
        [
         "14",
         "flow_0.110",
         "2587.4873846153846"
        ],
        [
         "15",
         "flow_0.111",
         "2357.0392753623187"
        ],
        [
         "16",
         "flow_0.112",
         "2648.5030769230766"
        ],
        [
         "17",
         "flow_0.113",
         "2720.6506451612904"
        ],
        [
         "18",
         "flow_0.114",
         "2809.1806666666666"
        ],
        [
         "19",
         "flow_0.115",
         "2637.9473015873014"
        ]
       ],
       "shape": {
        "columns": 2,
        "rows": 20
       }
      },
      "text/html": [
       "<div>\n",
       "<style scoped>\n",
       "    .dataframe tbody tr th:only-of-type {\n",
       "        vertical-align: middle;\n",
       "    }\n",
       "\n",
       "    .dataframe tbody tr th {\n",
       "        vertical-align: top;\n",
       "    }\n",
       "\n",
       "    .dataframe thead th {\n",
       "        text-align: right;\n",
       "    }\n",
       "</style>\n",
       "<table border=\"1\" class=\"dataframe\">\n",
       "  <thead>\n",
       "    <tr style=\"text-align: right;\">\n",
       "      <th></th>\n",
       "      <th>vehicle_id</th>\n",
       "      <th>avg_co2</th>\n",
       "    </tr>\n",
       "  </thead>\n",
       "  <tbody>\n",
       "    <tr>\n",
       "      <th>0</th>\n",
       "      <td>flow_0.0</td>\n",
       "      <td>2883.211356</td>\n",
       "    </tr>\n",
       "    <tr>\n",
       "      <th>1</th>\n",
       "      <td>flow_0.1</td>\n",
       "      <td>2607.713651</td>\n",
       "    </tr>\n",
       "    <tr>\n",
       "      <th>2</th>\n",
       "      <td>flow_0.10</td>\n",
       "      <td>2748.313906</td>\n",
       "    </tr>\n",
       "    <tr>\n",
       "      <th>3</th>\n",
       "      <td>flow_0.100</td>\n",
       "      <td>2799.264667</td>\n",
       "    </tr>\n",
       "    <tr>\n",
       "      <th>4</th>\n",
       "      <td>flow_0.101</td>\n",
       "      <td>2700.032903</td>\n",
       "    </tr>\n",
       "    <tr>\n",
       "      <th>5</th>\n",
       "      <td>flow_0.102</td>\n",
       "      <td>2732.728254</td>\n",
       "    </tr>\n",
       "    <tr>\n",
       "      <th>6</th>\n",
       "      <td>flow_0.103</td>\n",
       "      <td>2662.146452</td>\n",
       "    </tr>\n",
       "    <tr>\n",
       "      <th>7</th>\n",
       "      <td>flow_0.104</td>\n",
       "      <td>2523.215909</td>\n",
       "    </tr>\n",
       "    <tr>\n",
       "      <th>8</th>\n",
       "      <td>flow_0.105</td>\n",
       "      <td>2711.455323</td>\n",
       "    </tr>\n",
       "    <tr>\n",
       "      <th>9</th>\n",
       "      <td>flow_0.106</td>\n",
       "      <td>2819.286066</td>\n",
       "    </tr>\n",
       "    <tr>\n",
       "      <th>10</th>\n",
       "      <td>flow_0.107</td>\n",
       "      <td>2836.240333</td>\n",
       "    </tr>\n",
       "    <tr>\n",
       "      <th>11</th>\n",
       "      <td>flow_0.108</td>\n",
       "      <td>2964.464237</td>\n",
       "    </tr>\n",
       "    <tr>\n",
       "      <th>12</th>\n",
       "      <td>flow_0.109</td>\n",
       "      <td>2833.851613</td>\n",
       "    </tr>\n",
       "    <tr>\n",
       "      <th>13</th>\n",
       "      <td>flow_0.11</td>\n",
       "      <td>2869.754918</td>\n",
       "    </tr>\n",
       "    <tr>\n",
       "      <th>14</th>\n",
       "      <td>flow_0.110</td>\n",
       "      <td>2587.487385</td>\n",
       "    </tr>\n",
       "    <tr>\n",
       "      <th>15</th>\n",
       "      <td>flow_0.111</td>\n",
       "      <td>2357.039275</td>\n",
       "    </tr>\n",
       "    <tr>\n",
       "      <th>16</th>\n",
       "      <td>flow_0.112</td>\n",
       "      <td>2648.503077</td>\n",
       "    </tr>\n",
       "    <tr>\n",
       "      <th>17</th>\n",
       "      <td>flow_0.113</td>\n",
       "      <td>2720.650645</td>\n",
       "    </tr>\n",
       "    <tr>\n",
       "      <th>18</th>\n",
       "      <td>flow_0.114</td>\n",
       "      <td>2809.180667</td>\n",
       "    </tr>\n",
       "    <tr>\n",
       "      <th>19</th>\n",
       "      <td>flow_0.115</td>\n",
       "      <td>2637.947302</td>\n",
       "    </tr>\n",
       "  </tbody>\n",
       "</table>\n",
       "</div>"
      ],
      "text/plain": [
       "    vehicle_id      avg_co2\n",
       "0     flow_0.0  2883.211356\n",
       "1     flow_0.1  2607.713651\n",
       "2    flow_0.10  2748.313906\n",
       "3   flow_0.100  2799.264667\n",
       "4   flow_0.101  2700.032903\n",
       "5   flow_0.102  2732.728254\n",
       "6   flow_0.103  2662.146452\n",
       "7   flow_0.104  2523.215909\n",
       "8   flow_0.105  2711.455323\n",
       "9   flow_0.106  2819.286066\n",
       "10  flow_0.107  2836.240333\n",
       "11  flow_0.108  2964.464237\n",
       "12  flow_0.109  2833.851613\n",
       "13   flow_0.11  2869.754918\n",
       "14  flow_0.110  2587.487385\n",
       "15  flow_0.111  2357.039275\n",
       "16  flow_0.112  2648.503077\n",
       "17  flow_0.113  2720.650645\n",
       "18  flow_0.114  2809.180667\n",
       "19  flow_0.115  2637.947302"
      ]
     },
     "execution_count": 31,
     "metadata": {},
     "output_type": "execute_result"
    }
   ],
   "source": [
    "# Group by vehicle_id and compute average CO2 per vehicle\n",
    "avg_df_emissions = df_emissions.groupby(\"vehicle_id\", as_index=False).agg({\"vehicle_CO2\": \"mean\"}).rename(columns={\"vehicle_CO2\": \"avg_co2\"})\n",
    "avg_df_emissions.head(20)"
   ]
  },
  {
   "cell_type": "markdown",
   "id": "2386a998",
   "metadata": {},
   "source": [
    "Let's organize them by descending order of car spawn in each flow:\n"
   ]
  },
  {
   "cell_type": "code",
   "execution_count": 32,
   "id": "4d6230e9",
   "metadata": {},
   "outputs": [],
   "source": [
    "def orderSpawn(df):\n",
    "    # Extract flow number and car number\n",
    "    df[\"flow_id\"] = df[\"vehicle_id\"].str.extract(r\"flow_(\\d+)\\.\\d+\").astype(int)\n",
    "    df[\"car_num\"] = df[\"vehicle_id\"].str.split(\".\", n=1).str[1].astype(int)\n",
    "\n",
    "    # Sort by flow_id first, then by car_num\n",
    "    df = df.sort_values(by=[\"flow_id\", \"car_num\"], ascending=[True, True]).drop(columns=[\"car_num\"])\n",
    "\n",
    "    return df"
   ]
  },
  {
   "cell_type": "code",
   "execution_count": 34,
   "id": "33c22e1a",
   "metadata": {},
   "outputs": [
    {
     "data": {
      "application/vnd.microsoft.datawrangler.viewer.v0+json": {
       "columns": [
        {
         "name": "index",
         "rawType": "int64",
         "type": "integer"
        },
        {
         "name": "vehicle_id",
         "rawType": "object",
         "type": "string"
        },
        {
         "name": "avg_co2",
         "rawType": "float64",
         "type": "float"
        },
        {
         "name": "flow_id",
         "rawType": "int64",
         "type": "integer"
        }
       ],
       "ref": "1a07f2d0-accd-4588-ac2c-6d573ff9208f",
       "rows": [
        [
         "0",
         "flow_0.0",
         "2883.2113559322033",
         "0"
        ],
        [
         "1",
         "flow_0.1",
         "2607.7136507936507",
         "0"
        ],
        [
         "112",
         "flow_0.2",
         "2855.8931666666667",
         "0"
        ],
        [
         "223",
         "flow_0.3",
         "2844.316229508197",
         "0"
        ],
        [
         "334",
         "flow_0.4",
         "2715.0875",
         "0"
        ],
        [
         "445",
         "flow_0.5",
         "2360.3261971830984",
         "0"
        ],
        [
         "556",
         "flow_0.6",
         "2652.3025757575756",
         "0"
        ],
        [
         "567",
         "flow_0.7",
         "2510.5292307692307",
         "0"
        ],
        [
         "578",
         "flow_0.8",
         "2540.325238095238",
         "0"
        ],
        [
         "589",
         "flow_0.9",
         "2361.149275362319",
         "0"
        ],
        [
         "2",
         "flow_0.10",
         "2748.31390625",
         "0"
        ],
        [
         "13",
         "flow_0.11",
         "2869.754918032787",
         "0"
        ],
        [
         "24",
         "flow_0.12",
         "2850.5026666666668",
         "0"
        ],
        [
         "35",
         "flow_0.13",
         "2779.3033898305084",
         "0"
        ],
        [
         "46",
         "flow_0.14",
         "2850.7639344262298",
         "0"
        ],
        [
         "57",
         "flow_0.15",
         "2622.9628125",
         "0"
        ],
        [
         "68",
         "flow_0.16",
         "2501.835373134328",
         "0"
        ],
        [
         "79",
         "flow_0.17",
         "2611.5921875",
         "0"
        ],
        [
         "90",
         "flow_0.18",
         "2584.58546875",
         "0"
        ],
        [
         "101",
         "flow_0.19",
         "2870.8695000000002",
         "0"
        ],
        [
         "113",
         "flow_0.20",
         "2819.2198333333336",
         "0"
        ],
        [
         "124",
         "flow_0.21",
         "2926.9206666666664",
         "0"
        ],
        [
         "135",
         "flow_0.22",
         "2836.8726229508197",
         "0"
        ],
        [
         "146",
         "flow_0.23",
         "2454.4908823529413",
         "0"
        ],
        [
         "157",
         "flow_0.24",
         "2314.4381428571432",
         "0"
        ],
        [
         "168",
         "flow_0.25",
         "2457.9548529411763",
         "0"
        ],
        [
         "179",
         "flow_0.26",
         "2576.13375",
         "0"
        ],
        [
         "190",
         "flow_0.27",
         "2651.493650793651",
         "0"
        ],
        [
         "201",
         "flow_0.28",
         "2856.748813559322",
         "0"
        ],
        [
         "212",
         "flow_0.29",
         "2713.1369841269843",
         "0"
        ],
        [
         "224",
         "flow_0.30",
         "2789.632033898305",
         "0"
        ],
        [
         "235",
         "flow_0.31",
         "2814.1120338983055",
         "0"
        ],
        [
         "246",
         "flow_0.32",
         "2848.7650819672135",
         "0"
        ],
        [
         "257",
         "flow_0.33",
         "2859.5698305084743",
         "0"
        ],
        [
         "268",
         "flow_0.34",
         "2933.074833333333",
         "0"
        ],
        [
         "279",
         "flow_0.35",
         "2792.567049180328",
         "0"
        ],
        [
         "290",
         "flow_0.36",
         "2706.234193548387",
         "0"
        ],
        [
         "301",
         "flow_0.37",
         "2847.6322033898305",
         "0"
        ],
        [
         "312",
         "flow_0.38",
         "2852.5827586206897",
         "0"
        ],
        [
         "323",
         "flow_0.39",
         "2574.6336923076924",
         "0"
        ],
        [
         "335",
         "flow_0.40",
         "2758.9295081967216",
         "0"
        ],
        [
         "346",
         "flow_0.41",
         "2570.99126984127",
         "0"
        ],
        [
         "357",
         "flow_0.42",
         "2751.226666666667",
         "0"
        ],
        [
         "368",
         "flow_0.43",
         "2908.7352542372882",
         "0"
        ],
        [
         "379",
         "flow_0.44",
         "2918.009152542373",
         "0"
        ],
        [
         "390",
         "flow_0.45",
         "2871.951666666667",
         "0"
        ],
        [
         "401",
         "flow_0.46",
         "2813.0932258064518",
         "0"
        ],
        [
         "412",
         "flow_0.47",
         "2516.1301515151513",
         "0"
        ],
        [
         "423",
         "flow_0.48",
         "2426.5232352941175",
         "0"
        ],
        [
         "434",
         "flow_0.49",
         "2416.741029411765",
         "0"
        ]
       ],
       "shape": {
        "columns": 3,
        "rows": 600
       }
      },
      "text/html": [
       "<div>\n",
       "<style scoped>\n",
       "    .dataframe tbody tr th:only-of-type {\n",
       "        vertical-align: middle;\n",
       "    }\n",
       "\n",
       "    .dataframe tbody tr th {\n",
       "        vertical-align: top;\n",
       "    }\n",
       "\n",
       "    .dataframe thead th {\n",
       "        text-align: right;\n",
       "    }\n",
       "</style>\n",
       "<table border=\"1\" class=\"dataframe\">\n",
       "  <thead>\n",
       "    <tr style=\"text-align: right;\">\n",
       "      <th></th>\n",
       "      <th>vehicle_id</th>\n",
       "      <th>avg_co2</th>\n",
       "      <th>flow_id</th>\n",
       "    </tr>\n",
       "  </thead>\n",
       "  <tbody>\n",
       "    <tr>\n",
       "      <th>0</th>\n",
       "      <td>flow_0.0</td>\n",
       "      <td>2883.211356</td>\n",
       "      <td>0</td>\n",
       "    </tr>\n",
       "    <tr>\n",
       "      <th>1</th>\n",
       "      <td>flow_0.1</td>\n",
       "      <td>2607.713651</td>\n",
       "      <td>0</td>\n",
       "    </tr>\n",
       "    <tr>\n",
       "      <th>112</th>\n",
       "      <td>flow_0.2</td>\n",
       "      <td>2855.893167</td>\n",
       "      <td>0</td>\n",
       "    </tr>\n",
       "    <tr>\n",
       "      <th>223</th>\n",
       "      <td>flow_0.3</td>\n",
       "      <td>2844.316230</td>\n",
       "      <td>0</td>\n",
       "    </tr>\n",
       "    <tr>\n",
       "      <th>334</th>\n",
       "      <td>flow_0.4</td>\n",
       "      <td>2715.087500</td>\n",
       "      <td>0</td>\n",
       "    </tr>\n",
       "    <tr>\n",
       "      <th>...</th>\n",
       "      <td>...</td>\n",
       "      <td>...</td>\n",
       "      <td>...</td>\n",
       "    </tr>\n",
       "    <tr>\n",
       "      <th>551</th>\n",
       "      <td>flow_0.595</td>\n",
       "      <td>2789.989333</td>\n",
       "      <td>0</td>\n",
       "    </tr>\n",
       "    <tr>\n",
       "      <th>552</th>\n",
       "      <td>flow_0.596</td>\n",
       "      <td>2870.550000</td>\n",
       "      <td>0</td>\n",
       "    </tr>\n",
       "    <tr>\n",
       "      <th>553</th>\n",
       "      <td>flow_0.597</td>\n",
       "      <td>3182.498889</td>\n",
       "      <td>0</td>\n",
       "    </tr>\n",
       "    <tr>\n",
       "      <th>554</th>\n",
       "      <td>flow_0.598</td>\n",
       "      <td>3973.378333</td>\n",
       "      <td>0</td>\n",
       "    </tr>\n",
       "    <tr>\n",
       "      <th>555</th>\n",
       "      <td>flow_0.599</td>\n",
       "      <td>4677.463333</td>\n",
       "      <td>0</td>\n",
       "    </tr>\n",
       "  </tbody>\n",
       "</table>\n",
       "<p>600 rows × 3 columns</p>\n",
       "</div>"
      ],
      "text/plain": [
       "     vehicle_id      avg_co2  flow_id\n",
       "0      flow_0.0  2883.211356        0\n",
       "1      flow_0.1  2607.713651        0\n",
       "112    flow_0.2  2855.893167        0\n",
       "223    flow_0.3  2844.316230        0\n",
       "334    flow_0.4  2715.087500        0\n",
       "..          ...          ...      ...\n",
       "551  flow_0.595  2789.989333        0\n",
       "552  flow_0.596  2870.550000        0\n",
       "553  flow_0.597  3182.498889        0\n",
       "554  flow_0.598  3973.378333        0\n",
       "555  flow_0.599  4677.463333        0\n",
       "\n",
       "[600 rows x 3 columns]"
      ]
     },
     "execution_count": 34,
     "metadata": {},
     "output_type": "execute_result"
    }
   ],
   "source": [
    "orderSpawn(avg_df_emissions)"
   ]
  },
  {
   "cell_type": "markdown",
   "id": "595967a7",
   "metadata": {},
   "source": [
    "## For Tripinfo CSV"
   ]
  },
  {
   "cell_type": "code",
   "execution_count": 35,
   "id": "89dec950",
   "metadata": {},
   "outputs": [
    {
     "data": {
      "application/vnd.microsoft.datawrangler.viewer.v0+json": {
       "columns": [
        {
         "name": "index",
         "rawType": "int64",
         "type": "integer"
        },
        {
         "name": "tripinfo_arrival",
         "rawType": "float64",
         "type": "float"
        },
        {
         "name": "tripinfo_arrivalLane",
         "rawType": "object",
         "type": "string"
        },
        {
         "name": "tripinfo_arrivalPos",
         "rawType": "float64",
         "type": "float"
        },
        {
         "name": "tripinfo_arrivalSpeed",
         "rawType": "float64",
         "type": "float"
        },
        {
         "name": "tripinfo_depart",
         "rawType": "float64",
         "type": "float"
        },
        {
         "name": "tripinfo_departDelay",
         "rawType": "float64",
         "type": "float"
        },
        {
         "name": "tripinfo_departLane",
         "rawType": "object",
         "type": "string"
        },
        {
         "name": "tripinfo_departPos",
         "rawType": "float64",
         "type": "float"
        },
        {
         "name": "tripinfo_departSpeed",
         "rawType": "float64",
         "type": "float"
        },
        {
         "name": "tripinfo_devices",
         "rawType": "object",
         "type": "string"
        },
        {
         "name": "tripinfo_duration",
         "rawType": "float64",
         "type": "float"
        },
        {
         "name": "tripinfo_id",
         "rawType": "object",
         "type": "string"
        },
        {
         "name": "tripinfo_rerouteNo",
         "rawType": "int64",
         "type": "integer"
        },
        {
         "name": "tripinfo_routeLength",
         "rawType": "float64",
         "type": "float"
        },
        {
         "name": "tripinfo_speedFactor",
         "rawType": "float64",
         "type": "float"
        },
        {
         "name": "tripinfo_stopTime",
         "rawType": "float64",
         "type": "float"
        },
        {
         "name": "tripinfo_timeLoss",
         "rawType": "float64",
         "type": "float"
        },
        {
         "name": "tripinfo_vType",
         "rawType": "object",
         "type": "string"
        },
        {
         "name": "tripinfo_vaporized",
         "rawType": "float64",
         "type": "float"
        },
        {
         "name": "tripinfo_waitingCount",
         "rawType": "int64",
         "type": "integer"
        },
        {
         "name": "tripinfo_waitingTime",
         "rawType": "float64",
         "type": "float"
        },
        {
         "name": "emissions_CO2_abs",
         "rawType": "float64",
         "type": "float"
        },
        {
         "name": "emissions_CO_abs",
         "rawType": "float64",
         "type": "float"
        },
        {
         "name": "emissions_HC_abs",
         "rawType": "float64",
         "type": "float"
        },
        {
         "name": "emissions_NOx_abs",
         "rawType": "float64",
         "type": "float"
        },
        {
         "name": "emissions_PMx_abs",
         "rawType": "float64",
         "type": "float"
        },
        {
         "name": "emissions_electricity_abs",
         "rawType": "float64",
         "type": "float"
        },
        {
         "name": "emissions_fuel_abs",
         "rawType": "float64",
         "type": "float"
        }
       ],
       "ref": "93576a35-409f-4867-a617-17ed26635ed5",
       "rows": [
        [
         "0",
         "59.0",
         "E2D2_0",
         "85.6",
         "13.64",
         "0.0",
         "0.0",
         "A4B4_0",
         "4.6",
         "0.0",
         "tripinfo_flow_0.0 emissions_flow_0.0",
         "59.0",
         "flow_0.0",
         "0",
         "675.81",
         "1.06",
         "0.0",
         "9.65",
         "car",
         null,
         "0",
         "0.0",
         "172925.16",
         "1879.17",
         "12.67",
         "69.42",
         "2.97",
         "0.0",
         "55171.16"
        ],
        [
         "1",
         "69.0",
         "E2D2_0",
         "85.6",
         "12.17",
         "6.0",
         "0.0",
         "A4B4_0",
         "4.6",
         "0.0",
         "tripinfo_flow_0.1 emissions_flow_0.1",
         "63.0",
         "flow_0.1",
         "0",
         "675.81",
         "0.94",
         "0.0",
         "10.1",
         "car",
         null,
         "0",
         "0.0",
         "161987.89",
         "1609.13",
         "10.99",
         "62.59",
         "2.48",
         "0.0",
         "51682.56"
        ],
        [
         "2",
         "72.0",
         "E2D2_0",
         "85.6",
         "13.48",
         "12.0",
         "0.0",
         "A4B4_0",
         "4.6",
         "0.0",
         "tripinfo_flow_0.2 emissions_flow_0.2",
         "60.0",
         "flow_0.2",
         "0",
         "675.81",
         "1.01",
         "0.0",
         "10.47",
         "car",
         null,
         "0",
         "0.0",
         "171097.7",
         "1902.89",
         "12.72",
         "68.74",
         "2.94",
         "0.0",
         "54587.99"
        ],
        [
         "3",
         "79.0",
         "E2D2_0",
         "85.6",
         "13.81",
         "18.0",
         "0.0",
         "A4B4_0",
         "4.6",
         "0.0",
         "tripinfo_flow_0.3 emissions_flow_0.3",
         "61.0",
         "flow_0.3",
         "0",
         "675.81",
         "1.08",
         "0.0",
         "10.56",
         "car",
         null,
         "0",
         "0.0",
         "174507.68",
         "1843.26",
         "12.51",
         "69.02",
         "2.85",
         "0.0",
         "55676.42"
        ],
        [
         "4",
         "84.0",
         "E2D2_0",
         "85.6",
         "13.48",
         "24.0",
         "0.0",
         "A4B4_0",
         "4.6",
         "0.0",
         "tripinfo_flow_0.4 emissions_flow_0.4",
         "60.0",
         "flow_0.4",
         "0",
         "675.81",
         "1.03",
         "0.0",
         "10.34",
         "car",
         null,
         "0",
         "0.0",
         "164820.74",
         "1749.41",
         "11.83",
         "65.58",
         "2.74",
         "0.0",
         "52585.7"
        ]
       ],
       "shape": {
        "columns": 28,
        "rows": 5
       }
      },
      "text/html": [
       "<div>\n",
       "<style scoped>\n",
       "    .dataframe tbody tr th:only-of-type {\n",
       "        vertical-align: middle;\n",
       "    }\n",
       "\n",
       "    .dataframe tbody tr th {\n",
       "        vertical-align: top;\n",
       "    }\n",
       "\n",
       "    .dataframe thead th {\n",
       "        text-align: right;\n",
       "    }\n",
       "</style>\n",
       "<table border=\"1\" class=\"dataframe\">\n",
       "  <thead>\n",
       "    <tr style=\"text-align: right;\">\n",
       "      <th></th>\n",
       "      <th>tripinfo_arrival</th>\n",
       "      <th>tripinfo_arrivalLane</th>\n",
       "      <th>tripinfo_arrivalPos</th>\n",
       "      <th>tripinfo_arrivalSpeed</th>\n",
       "      <th>tripinfo_depart</th>\n",
       "      <th>tripinfo_departDelay</th>\n",
       "      <th>tripinfo_departLane</th>\n",
       "      <th>tripinfo_departPos</th>\n",
       "      <th>tripinfo_departSpeed</th>\n",
       "      <th>tripinfo_devices</th>\n",
       "      <th>...</th>\n",
       "      <th>tripinfo_vaporized</th>\n",
       "      <th>tripinfo_waitingCount</th>\n",
       "      <th>tripinfo_waitingTime</th>\n",
       "      <th>emissions_CO2_abs</th>\n",
       "      <th>emissions_CO_abs</th>\n",
       "      <th>emissions_HC_abs</th>\n",
       "      <th>emissions_NOx_abs</th>\n",
       "      <th>emissions_PMx_abs</th>\n",
       "      <th>emissions_electricity_abs</th>\n",
       "      <th>emissions_fuel_abs</th>\n",
       "    </tr>\n",
       "  </thead>\n",
       "  <tbody>\n",
       "    <tr>\n",
       "      <th>0</th>\n",
       "      <td>59.0</td>\n",
       "      <td>E2D2_0</td>\n",
       "      <td>85.6</td>\n",
       "      <td>13.64</td>\n",
       "      <td>0.0</td>\n",
       "      <td>0.0</td>\n",
       "      <td>A4B4_0</td>\n",
       "      <td>4.6</td>\n",
       "      <td>0.0</td>\n",
       "      <td>tripinfo_flow_0.0 emissions_flow_0.0</td>\n",
       "      <td>...</td>\n",
       "      <td>NaN</td>\n",
       "      <td>0</td>\n",
       "      <td>0.0</td>\n",
       "      <td>172925.16</td>\n",
       "      <td>1879.17</td>\n",
       "      <td>12.67</td>\n",
       "      <td>69.42</td>\n",
       "      <td>2.97</td>\n",
       "      <td>0.0</td>\n",
       "      <td>55171.16</td>\n",
       "    </tr>\n",
       "    <tr>\n",
       "      <th>1</th>\n",
       "      <td>69.0</td>\n",
       "      <td>E2D2_0</td>\n",
       "      <td>85.6</td>\n",
       "      <td>12.17</td>\n",
       "      <td>6.0</td>\n",
       "      <td>0.0</td>\n",
       "      <td>A4B4_0</td>\n",
       "      <td>4.6</td>\n",
       "      <td>0.0</td>\n",
       "      <td>tripinfo_flow_0.1 emissions_flow_0.1</td>\n",
       "      <td>...</td>\n",
       "      <td>NaN</td>\n",
       "      <td>0</td>\n",
       "      <td>0.0</td>\n",
       "      <td>161987.89</td>\n",
       "      <td>1609.13</td>\n",
       "      <td>10.99</td>\n",
       "      <td>62.59</td>\n",
       "      <td>2.48</td>\n",
       "      <td>0.0</td>\n",
       "      <td>51682.56</td>\n",
       "    </tr>\n",
       "    <tr>\n",
       "      <th>2</th>\n",
       "      <td>72.0</td>\n",
       "      <td>E2D2_0</td>\n",
       "      <td>85.6</td>\n",
       "      <td>13.48</td>\n",
       "      <td>12.0</td>\n",
       "      <td>0.0</td>\n",
       "      <td>A4B4_0</td>\n",
       "      <td>4.6</td>\n",
       "      <td>0.0</td>\n",
       "      <td>tripinfo_flow_0.2 emissions_flow_0.2</td>\n",
       "      <td>...</td>\n",
       "      <td>NaN</td>\n",
       "      <td>0</td>\n",
       "      <td>0.0</td>\n",
       "      <td>171097.70</td>\n",
       "      <td>1902.89</td>\n",
       "      <td>12.72</td>\n",
       "      <td>68.74</td>\n",
       "      <td>2.94</td>\n",
       "      <td>0.0</td>\n",
       "      <td>54587.99</td>\n",
       "    </tr>\n",
       "    <tr>\n",
       "      <th>3</th>\n",
       "      <td>79.0</td>\n",
       "      <td>E2D2_0</td>\n",
       "      <td>85.6</td>\n",
       "      <td>13.81</td>\n",
       "      <td>18.0</td>\n",
       "      <td>0.0</td>\n",
       "      <td>A4B4_0</td>\n",
       "      <td>4.6</td>\n",
       "      <td>0.0</td>\n",
       "      <td>tripinfo_flow_0.3 emissions_flow_0.3</td>\n",
       "      <td>...</td>\n",
       "      <td>NaN</td>\n",
       "      <td>0</td>\n",
       "      <td>0.0</td>\n",
       "      <td>174507.68</td>\n",
       "      <td>1843.26</td>\n",
       "      <td>12.51</td>\n",
       "      <td>69.02</td>\n",
       "      <td>2.85</td>\n",
       "      <td>0.0</td>\n",
       "      <td>55676.42</td>\n",
       "    </tr>\n",
       "    <tr>\n",
       "      <th>4</th>\n",
       "      <td>84.0</td>\n",
       "      <td>E2D2_0</td>\n",
       "      <td>85.6</td>\n",
       "      <td>13.48</td>\n",
       "      <td>24.0</td>\n",
       "      <td>0.0</td>\n",
       "      <td>A4B4_0</td>\n",
       "      <td>4.6</td>\n",
       "      <td>0.0</td>\n",
       "      <td>tripinfo_flow_0.4 emissions_flow_0.4</td>\n",
       "      <td>...</td>\n",
       "      <td>NaN</td>\n",
       "      <td>0</td>\n",
       "      <td>0.0</td>\n",
       "      <td>164820.74</td>\n",
       "      <td>1749.41</td>\n",
       "      <td>11.83</td>\n",
       "      <td>65.58</td>\n",
       "      <td>2.74</td>\n",
       "      <td>0.0</td>\n",
       "      <td>52585.70</td>\n",
       "    </tr>\n",
       "  </tbody>\n",
       "</table>\n",
       "<p>5 rows × 28 columns</p>\n",
       "</div>"
      ],
      "text/plain": [
       "   tripinfo_arrival tripinfo_arrivalLane  tripinfo_arrivalPos  \\\n",
       "0              59.0               E2D2_0                 85.6   \n",
       "1              69.0               E2D2_0                 85.6   \n",
       "2              72.0               E2D2_0                 85.6   \n",
       "3              79.0               E2D2_0                 85.6   \n",
       "4              84.0               E2D2_0                 85.6   \n",
       "\n",
       "   tripinfo_arrivalSpeed  tripinfo_depart  tripinfo_departDelay  \\\n",
       "0                  13.64              0.0                   0.0   \n",
       "1                  12.17              6.0                   0.0   \n",
       "2                  13.48             12.0                   0.0   \n",
       "3                  13.81             18.0                   0.0   \n",
       "4                  13.48             24.0                   0.0   \n",
       "\n",
       "  tripinfo_departLane  tripinfo_departPos  tripinfo_departSpeed  \\\n",
       "0              A4B4_0                 4.6                   0.0   \n",
       "1              A4B4_0                 4.6                   0.0   \n",
       "2              A4B4_0                 4.6                   0.0   \n",
       "3              A4B4_0                 4.6                   0.0   \n",
       "4              A4B4_0                 4.6                   0.0   \n",
       "\n",
       "                       tripinfo_devices  ...  tripinfo_vaporized  \\\n",
       "0  tripinfo_flow_0.0 emissions_flow_0.0  ...                 NaN   \n",
       "1  tripinfo_flow_0.1 emissions_flow_0.1  ...                 NaN   \n",
       "2  tripinfo_flow_0.2 emissions_flow_0.2  ...                 NaN   \n",
       "3  tripinfo_flow_0.3 emissions_flow_0.3  ...                 NaN   \n",
       "4  tripinfo_flow_0.4 emissions_flow_0.4  ...                 NaN   \n",
       "\n",
       "  tripinfo_waitingCount  tripinfo_waitingTime  emissions_CO2_abs  \\\n",
       "0                     0                   0.0          172925.16   \n",
       "1                     0                   0.0          161987.89   \n",
       "2                     0                   0.0          171097.70   \n",
       "3                     0                   0.0          174507.68   \n",
       "4                     0                   0.0          164820.74   \n",
       "\n",
       "   emissions_CO_abs  emissions_HC_abs  emissions_NOx_abs emissions_PMx_abs  \\\n",
       "0           1879.17             12.67              69.42              2.97   \n",
       "1           1609.13             10.99              62.59              2.48   \n",
       "2           1902.89             12.72              68.74              2.94   \n",
       "3           1843.26             12.51              69.02              2.85   \n",
       "4           1749.41             11.83              65.58              2.74   \n",
       "\n",
       "   emissions_electricity_abs  emissions_fuel_abs  \n",
       "0                        0.0            55171.16  \n",
       "1                        0.0            51682.56  \n",
       "2                        0.0            54587.99  \n",
       "3                        0.0            55676.42  \n",
       "4                        0.0            52585.70  \n",
       "\n",
       "[5 rows x 28 columns]"
      ]
     },
     "execution_count": 35,
     "metadata": {},
     "output_type": "execute_result"
    }
   ],
   "source": [
    "df_tripinfo = pd.read_csv(r\"..\\outputs\\csvs\\tripinfo.csv\", sep=\";\")\n",
    "df_tripinfo.head()"
   ]
  },
  {
   "cell_type": "markdown",
   "id": "305ae486",
   "metadata": {},
   "source": [
    "Works the same as `vehicle_id`, just gotta adapt to a global variable or request as input."
   ]
  },
  {
   "cell_type": "markdown",
   "id": "57a0d208",
   "metadata": {},
   "source": []
  }
 ],
 "metadata": {
  "kernelspec": {
   "display_name": "fibrosis",
   "language": "python",
   "name": "python3"
  },
  "language_info": {
   "codemirror_mode": {
    "name": "ipython",
    "version": 3
   },
   "file_extension": ".py",
   "mimetype": "text/x-python",
   "name": "python",
   "nbconvert_exporter": "python",
   "pygments_lexer": "ipython3",
   "version": "3.12.9"
  }
 },
 "nbformat": 4,
 "nbformat_minor": 5
}
